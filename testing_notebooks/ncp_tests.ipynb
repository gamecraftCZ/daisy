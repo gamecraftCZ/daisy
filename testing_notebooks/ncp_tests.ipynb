{
 "cells": [
  {
   "cell_type": "code",
   "execution_count": 16,
   "metadata": {
    "collapsed": true,
    "ExecuteTime": {
     "start_time": "2023-06-06T16:55:22.363174Z",
     "end_time": "2023-06-06T16:55:22.366173Z"
    }
   },
   "outputs": [],
   "source": [
    "import numpy as np\n",
    "import torch\n",
    "import torch.nn as nn\n",
    "from ncps.wirings import AutoNCP\n",
    "from ncps.torch import LTC\n",
    "from ncps.torch import CfC\n",
    "\n",
    "import matplotlib.pyplot as plt\n",
    "import seaborn as sns"
   ]
  },
  {
   "cell_type": "code",
   "execution_count": 17,
   "outputs": [
    {
     "ename": "TypeError",
     "evalue": "__init__() missing 1 required positional argument: 'units'",
     "output_type": "error",
     "traceback": [
      "\u001B[1;31m---------------------------------------------------------------------------\u001B[0m",
      "\u001B[1;31mTypeError\u001B[0m                                 Traceback (most recent call last)",
      "Cell \u001B[1;32mIn[17], line 2\u001B[0m\n\u001B[0;32m      1\u001B[0m wiring \u001B[38;5;241m=\u001B[39m AutoNCP(\u001B[38;5;241m14\u001B[39m, \u001B[38;5;241m4\u001B[39m)  \u001B[38;5;66;03m# 14 units, 4 action neurons\u001B[39;00m\n\u001B[1;32m----> 2\u001B[0m cfc \u001B[38;5;241m=\u001B[39m \u001B[43mCfC\u001B[49m\u001B[43m(\u001B[49m\u001B[43mwiring\u001B[49m\u001B[43m,\u001B[49m\u001B[43m \u001B[49m\u001B[43mbatch_first\u001B[49m\u001B[38;5;241;43m=\u001B[39;49m\u001B[38;5;28;43;01mTrue\u001B[39;49;00m\u001B[43m)\u001B[49m\n\u001B[0;32m      3\u001B[0m \u001B[38;5;66;03m# 3ltc = LTC(8, wiring, batch_first=True)\u001B[39;00m\n\u001B[0;32m      4\u001B[0m \u001B[38;5;66;03m# Draw wiring\u001B[39;00m\n\u001B[0;32m      5\u001B[0m sns\u001B[38;5;241m.\u001B[39mset_style(\u001B[38;5;124m\"\u001B[39m\u001B[38;5;124mwhite\u001B[39m\u001B[38;5;124m\"\u001B[39m)\n",
      "\u001B[1;31mTypeError\u001B[0m: __init__() missing 1 required positional argument: 'units'"
     ]
    }
   ],
   "source": [
    "# Config\n",
    "act_vocab_size = 4\n",
    "obs_vocab_size = 512\n",
    "\n",
    "\n",
    "wiring = AutoNCP(1024, 4)  # 14 units, 4 action neurons\n",
    "cfc = CfC(4, wiring, batch_first=True)\n",
    "\n",
    "# Draw wiring\n",
    "sns.set_style(\"white\")\n",
    "plt.figure(figsize=(6, 4))\n",
    "legend_handles = wiring.draw_graph(draw_labels=True, neuron_colors={\"command\": \"tab:cyan\"})\n",
    "plt.legend(handles=legend_handles, loc=\"upper center\", bbox_to_anchor=(1, 1))\n",
    "sns.despine(left=True, bottom=True)\n",
    "plt.tight_layout()\n",
    "plt.show()"
   ],
   "metadata": {
    "collapsed": false,
    "ExecuteTime": {
     "start_time": "2023-06-06T16:45:23.344116Z",
     "end_time": "2023-06-06T16:45:23.678944Z"
    }
   }
  }
 ],
 "metadata": {
  "kernelspec": {
   "display_name": "Python 3",
   "language": "python",
   "name": "python3"
  },
  "language_info": {
   "codemirror_mode": {
    "name": "ipython",
    "version": 2
   },
   "file_extension": ".py",
   "mimetype": "text/x-python",
   "name": "python",
   "nbconvert_exporter": "python",
   "pygments_lexer": "ipython2",
   "version": "2.7.6"
  }
 },
 "nbformat": 4,
 "nbformat_minor": 0
}
